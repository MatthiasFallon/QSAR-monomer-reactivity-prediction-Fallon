{
 "cells": [
  {
   "cell_type": "code",
   "execution_count": 18,
   "id": "5c79141e",
   "metadata": {},
   "outputs": [
    {
     "name": "stdout",
     "output_type": "stream",
     "text": [
      "Conversion complete. The column has been exported as a CSV file.\n"
     ]
    }
   ],
   "source": [
    "import csv\n",
    "\n",
    "def column_to_list(input_file, output_file):\n",
    "    numbers_list = []\n",
    "\n",
    "    # Read the input CSV file\n",
    "    with open(input_file, 'r') as file:\n",
    "        reader = csv.reader(file)\n",
    "        for row in reader:\n",
    "            if row:  # Skip empty rows\n",
    "                number = row[0]\n",
    "                numbers_list.append(number)\n",
    "\n",
    "    # Convert the list to a comma-separated string\n",
    "    numbers_str = ','.join(numbers_list)\n",
    "\n",
    "    # Write the comma-separated string to the output CSV file\n",
    "    with open(output_file, 'w', newline='') as file:\n",
    "        writer = csv.writer(file)\n",
    "        writer.writerow([\"Numbers\"])  # Write the header\n",
    "        writer.writerow([numbers_str])\n",
    "\n",
    "    print(\"Conversion complete. The column has been exported as a CSV file.\")\n",
    "\n",
    "# Specify the input and output file paths\n",
    "input_file = 'Udata.csv'\n",
    "output_file = 'Udatatest.csv'\n",
    "\n",
    "# Call the function to convert the column to a list and export as a CSV\n",
    "column_to_list(input_file, output_file)"
   ]
  },
  {
   "cell_type": "code",
   "execution_count": null,
   "id": "084e8cc2",
   "metadata": {},
   "outputs": [],
   "source": []
  }
 ],
 "metadata": {
  "kernelspec": {
   "display_name": "Python 3 (ipykernel)",
   "language": "python",
   "name": "python3"
  },
  "language_info": {
   "codemirror_mode": {
    "name": "ipython",
    "version": 3
   },
   "file_extension": ".py",
   "mimetype": "text/x-python",
   "name": "python",
   "nbconvert_exporter": "python",
   "pygments_lexer": "ipython3",
   "version": "3.11.3"
  }
 },
 "nbformat": 4,
 "nbformat_minor": 5
}
